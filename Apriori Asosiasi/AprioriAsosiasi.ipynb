{
  "nbformat": 4,
  "nbformat_minor": 0,
  "metadata": {
    "colab": {
      "provenance": []
    },
    "kernelspec": {
      "name": "python3",
      "display_name": "Python 3"
    },
    "language_info": {
      "name": "python"
    }
  },
  "cells": [
    {
      "cell_type": "code",
      "source": [
        "import pandas as pd\n",
        "from mlxtend.preprocessing import TransactionEncoder\n",
        "from mlxtend.frequent_patterns import apriori, association_rules\n",
        "\n",
        "# Baca dataset\n",
        "data = pd.read_csv('Market_Basket_Optimisation.csv', header=None)\n"
      ],
      "metadata": {
        "id": "_W0V2EkHRd9t"
      },
      "execution_count": 23,
      "outputs": []
    },
    {
      "cell_type": "code",
      "source": [
        "# Menampilkan beberapa baris pertama dataset\n",
        "print(data.head())"
      ],
      "metadata": {
        "colab": {
          "base_uri": "https://localhost:8080/"
        },
        "id": "Cnx7eyizR3IA",
        "outputId": "7b1d3274-5542-4847-feee-943bbca30f28"
      },
      "execution_count": 25,
      "outputs": [
        {
          "output_type": "stream",
          "name": "stdout",
          "text": [
            "              0          1           2                 3             4   \\\n",
            "0         shrimp    almonds     avocado    vegetables mix  green grapes   \n",
            "1        burgers  meatballs        eggs               NaN           NaN   \n",
            "2        chutney        NaN         NaN               NaN           NaN   \n",
            "3         turkey    avocado         NaN               NaN           NaN   \n",
            "4  mineral water       milk  energy bar  whole wheat rice     green tea   \n",
            "\n",
            "                 5     6               7             8             9   \\\n",
            "0  whole weat flour  yams  cottage cheese  energy drink  tomato juice   \n",
            "1               NaN   NaN             NaN           NaN           NaN   \n",
            "2               NaN   NaN             NaN           NaN           NaN   \n",
            "3               NaN   NaN             NaN           NaN           NaN   \n",
            "4               NaN   NaN             NaN           NaN           NaN   \n",
            "\n",
            "               10         11     12     13             14      15  \\\n",
            "0  low fat yogurt  green tea  honey  salad  mineral water  salmon   \n",
            "1             NaN        NaN    NaN    NaN            NaN     NaN   \n",
            "2             NaN        NaN    NaN    NaN            NaN     NaN   \n",
            "3             NaN        NaN    NaN    NaN            NaN     NaN   \n",
            "4             NaN        NaN    NaN    NaN            NaN     NaN   \n",
            "\n",
            "                  16               17       18         19  \n",
            "0  antioxydant juice  frozen smoothie  spinach  olive oil  \n",
            "1                NaN              NaN      NaN        NaN  \n",
            "2                NaN              NaN      NaN        NaN  \n",
            "3                NaN              NaN      NaN        NaN  \n",
            "4                NaN              NaN      NaN        NaN  \n"
          ]
        }
      ]
    },
    {
      "cell_type": "code",
      "source": [
        "# Preprocessing dataset terlebih dahulu\n",
        "transactions = []\n",
        "for i in range(len(data)):\n",
        "    transactions.append([str(data.values[i, j]) for j in range(len(data.columns))])"
      ],
      "metadata": {
        "id": "GwwFm7-vRe4Y"
      },
      "execution_count": 26,
      "outputs": []
    },
    {
      "cell_type": "code",
      "source": [
        "# Membuat objek Transaction Encoder\n",
        "te = TransactionEncoder()"
      ],
      "metadata": {
        "id": "z2OWTOp8Rkzl"
      },
      "execution_count": 27,
      "outputs": []
    },
    {
      "cell_type": "code",
      "source": [
        "# Fit dan transformasikan data akan di transaksi menggunakan TransactionEncoder\n",
        "te_ary = te.fit_transform(transactions)"
      ],
      "metadata": {
        "id": "WeP-o9LIRny4"
      },
      "execution_count": 28,
      "outputs": []
    },
    {
      "cell_type": "code",
      "source": [
        "# Mengubah array hasil encoding menjadi DataFrame\n",
        "df = pd.DataFrame(te_ary, columns=te.columns_)"
      ],
      "metadata": {
        "id": "m4txQBhHRqWw"
      },
      "execution_count": 29,
      "outputs": []
    },
    {
      "cell_type": "code",
      "source": [
        "# Menerapkan algoritma Apriori\n",
        "frequent_itemsets = apriori(df, min_support=0.01, use_colnames=True)"
      ],
      "metadata": {
        "id": "hwyw9v01Rs34"
      },
      "execution_count": 30,
      "outputs": []
    },
    {
      "cell_type": "code",
      "source": [
        "# Menghasilkan aturan asosiasi\n",
        "rules = association_rules(frequent_itemsets, metric=\"lift\", min_threshold=1)"
      ],
      "metadata": {
        "id": "39RIIbToRuuV"
      },
      "execution_count": 31,
      "outputs": []
    },
    {
      "cell_type": "code",
      "source": [
        "# Memperoleh aturan asosiasi unggulan berdasarkan confidence dan lift\n",
        "top_rules = rules.nlargest(10, ['confidence', 'lift'])"
      ],
      "metadata": {
        "id": "iN8wZ3pSRxf-"
      },
      "execution_count": 32,
      "outputs": []
    },
    {
      "cell_type": "code",
      "source": [
        "# Menampilkan aturan asosiasi unggulan\n",
        "print(top_rules[['antecedents', 'consequents', 'support', 'confidence', 'lift']])"
      ],
      "metadata": {
        "colab": {
          "base_uri": "https://localhost:8080/"
        },
        "id": "SWRESow3R1YW",
        "outputId": "554fcf69-36ab-4313-baba-bb10ca3f77fb"
      },
      "execution_count": 33,
      "outputs": [
        {
          "output_type": "stream",
          "name": "stdout",
          "text": [
            "         antecedents consequents   support  confidence      lift\n",
            "3   (barbecue sauce)       (nan)  0.010799         1.0  1.000133\n",
            "4        (black tea)       (nan)  0.014265         1.0  1.000133\n",
            "6       (body spray)       (nan)  0.011465         1.0  1.000133\n",
            "8         (brownies)       (nan)  0.033729         1.0  1.000133\n",
            "28         (burgers)       (nan)  0.087188         1.0  1.000133\n",
            "37          (butter)       (nan)  0.030129         1.0  1.000133\n",
            "53            (cake)       (nan)  0.081056         1.0  1.000133\n",
            "59         (carrots)       (nan)  0.015331         1.0  1.000133\n",
            "63         (cereals)       (nan)  0.025730         1.0  1.000133\n",
            "67       (champagne)       (nan)  0.046794         1.0  1.000133\n"
          ]
        }
      ]
    }
  ]
}