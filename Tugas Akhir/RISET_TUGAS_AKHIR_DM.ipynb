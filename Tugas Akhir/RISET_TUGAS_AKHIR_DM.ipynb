{
  "nbformat": 4,
  "nbformat_minor": 0,
  "metadata": {
    "colab": {
      "provenance": []
    },
    "kernelspec": {
      "name": "python3",
      "display_name": "Python 3"
    },
    "language_info": {
      "name": "python"
    }
  },
  "cells": [
    {
      "cell_type": "code",
      "execution_count": 1,
      "metadata": {
        "id": "vha9c_5UJAuY"
      },
      "outputs": [],
      "source": [
        "import pandas as pd\n",
        "import matplotlib.pyplot as plt\n",
        "import numpy as np\n",
        "from sklearn.model_selection import train_test_split\n",
        "from sklearn.naive_bayes import GaussianNB\n",
        "from sklearn.metrics import accuracy_score"
      ]
    },
    {
      "cell_type": "code",
      "source": [
        "dataset = pd.read_csv('mushrooms.csv')"
      ],
      "metadata": {
        "id": "PdTlFDCJKTby"
      },
      "execution_count": 2,
      "outputs": []
    },
    {
      "cell_type": "code",
      "source": [
        "dataset.head()"
      ],
      "metadata": {
        "colab": {
          "base_uri": "https://localhost:8080/",
          "height": 351
        },
        "id": "aZCWOXi_KW5Y",
        "outputId": "92af5a60-982a-4696-8f79-a495307b54b7"
      },
      "execution_count": 3,
      "outputs": [
        {
          "output_type": "execute_result",
          "data": {
            "text/plain": [
              "  class cap-shape cap-surface cap-color bruises odor gill-attachment  \\\n",
              "0     p         x           s         n       t    p               f   \n",
              "1     e         x           s         y       t    a               f   \n",
              "2     e         b           s         w       t    l               f   \n",
              "3     p         x           y         w       t    p               f   \n",
              "4     e         x           s         g       f    n               f   \n",
              "\n",
              "  gill-spacing gill-size gill-color  ... stalk-surface-below-ring  \\\n",
              "0            c         n          k  ...                        s   \n",
              "1            c         b          k  ...                        s   \n",
              "2            c         b          n  ...                        s   \n",
              "3            c         n          n  ...                        s   \n",
              "4            w         b          k  ...                        s   \n",
              "\n",
              "  stalk-color-above-ring stalk-color-below-ring veil-type veil-color  \\\n",
              "0                      w                      w         p          w   \n",
              "1                      w                      w         p          w   \n",
              "2                      w                      w         p          w   \n",
              "3                      w                      w         p          w   \n",
              "4                      w                      w         p          w   \n",
              "\n",
              "  ring-number ring-type spore-print-color population habitat  \n",
              "0           o         p                 k          s       u  \n",
              "1           o         p                 n          n       g  \n",
              "2           o         p                 n          n       m  \n",
              "3           o         p                 k          s       u  \n",
              "4           o         e                 n          a       g  \n",
              "\n",
              "[5 rows x 23 columns]"
            ],
            "text/html": [
              "\n",
              "  <div id=\"df-81144c8e-e697-47f5-9b7d-baebece9458f\">\n",
              "    <div class=\"colab-df-container\">\n",
              "      <div>\n",
              "<style scoped>\n",
              "    .dataframe tbody tr th:only-of-type {\n",
              "        vertical-align: middle;\n",
              "    }\n",
              "\n",
              "    .dataframe tbody tr th {\n",
              "        vertical-align: top;\n",
              "    }\n",
              "\n",
              "    .dataframe thead th {\n",
              "        text-align: right;\n",
              "    }\n",
              "</style>\n",
              "<table border=\"1\" class=\"dataframe\">\n",
              "  <thead>\n",
              "    <tr style=\"text-align: right;\">\n",
              "      <th></th>\n",
              "      <th>class</th>\n",
              "      <th>cap-shape</th>\n",
              "      <th>cap-surface</th>\n",
              "      <th>cap-color</th>\n",
              "      <th>bruises</th>\n",
              "      <th>odor</th>\n",
              "      <th>gill-attachment</th>\n",
              "      <th>gill-spacing</th>\n",
              "      <th>gill-size</th>\n",
              "      <th>gill-color</th>\n",
              "      <th>...</th>\n",
              "      <th>stalk-surface-below-ring</th>\n",
              "      <th>stalk-color-above-ring</th>\n",
              "      <th>stalk-color-below-ring</th>\n",
              "      <th>veil-type</th>\n",
              "      <th>veil-color</th>\n",
              "      <th>ring-number</th>\n",
              "      <th>ring-type</th>\n",
              "      <th>spore-print-color</th>\n",
              "      <th>population</th>\n",
              "      <th>habitat</th>\n",
              "    </tr>\n",
              "  </thead>\n",
              "  <tbody>\n",
              "    <tr>\n",
              "      <th>0</th>\n",
              "      <td>p</td>\n",
              "      <td>x</td>\n",
              "      <td>s</td>\n",
              "      <td>n</td>\n",
              "      <td>t</td>\n",
              "      <td>p</td>\n",
              "      <td>f</td>\n",
              "      <td>c</td>\n",
              "      <td>n</td>\n",
              "      <td>k</td>\n",
              "      <td>...</td>\n",
              "      <td>s</td>\n",
              "      <td>w</td>\n",
              "      <td>w</td>\n",
              "      <td>p</td>\n",
              "      <td>w</td>\n",
              "      <td>o</td>\n",
              "      <td>p</td>\n",
              "      <td>k</td>\n",
              "      <td>s</td>\n",
              "      <td>u</td>\n",
              "    </tr>\n",
              "    <tr>\n",
              "      <th>1</th>\n",
              "      <td>e</td>\n",
              "      <td>x</td>\n",
              "      <td>s</td>\n",
              "      <td>y</td>\n",
              "      <td>t</td>\n",
              "      <td>a</td>\n",
              "      <td>f</td>\n",
              "      <td>c</td>\n",
              "      <td>b</td>\n",
              "      <td>k</td>\n",
              "      <td>...</td>\n",
              "      <td>s</td>\n",
              "      <td>w</td>\n",
              "      <td>w</td>\n",
              "      <td>p</td>\n",
              "      <td>w</td>\n",
              "      <td>o</td>\n",
              "      <td>p</td>\n",
              "      <td>n</td>\n",
              "      <td>n</td>\n",
              "      <td>g</td>\n",
              "    </tr>\n",
              "    <tr>\n",
              "      <th>2</th>\n",
              "      <td>e</td>\n",
              "      <td>b</td>\n",
              "      <td>s</td>\n",
              "      <td>w</td>\n",
              "      <td>t</td>\n",
              "      <td>l</td>\n",
              "      <td>f</td>\n",
              "      <td>c</td>\n",
              "      <td>b</td>\n",
              "      <td>n</td>\n",
              "      <td>...</td>\n",
              "      <td>s</td>\n",
              "      <td>w</td>\n",
              "      <td>w</td>\n",
              "      <td>p</td>\n",
              "      <td>w</td>\n",
              "      <td>o</td>\n",
              "      <td>p</td>\n",
              "      <td>n</td>\n",
              "      <td>n</td>\n",
              "      <td>m</td>\n",
              "    </tr>\n",
              "    <tr>\n",
              "      <th>3</th>\n",
              "      <td>p</td>\n",
              "      <td>x</td>\n",
              "      <td>y</td>\n",
              "      <td>w</td>\n",
              "      <td>t</td>\n",
              "      <td>p</td>\n",
              "      <td>f</td>\n",
              "      <td>c</td>\n",
              "      <td>n</td>\n",
              "      <td>n</td>\n",
              "      <td>...</td>\n",
              "      <td>s</td>\n",
              "      <td>w</td>\n",
              "      <td>w</td>\n",
              "      <td>p</td>\n",
              "      <td>w</td>\n",
              "      <td>o</td>\n",
              "      <td>p</td>\n",
              "      <td>k</td>\n",
              "      <td>s</td>\n",
              "      <td>u</td>\n",
              "    </tr>\n",
              "    <tr>\n",
              "      <th>4</th>\n",
              "      <td>e</td>\n",
              "      <td>x</td>\n",
              "      <td>s</td>\n",
              "      <td>g</td>\n",
              "      <td>f</td>\n",
              "      <td>n</td>\n",
              "      <td>f</td>\n",
              "      <td>w</td>\n",
              "      <td>b</td>\n",
              "      <td>k</td>\n",
              "      <td>...</td>\n",
              "      <td>s</td>\n",
              "      <td>w</td>\n",
              "      <td>w</td>\n",
              "      <td>p</td>\n",
              "      <td>w</td>\n",
              "      <td>o</td>\n",
              "      <td>e</td>\n",
              "      <td>n</td>\n",
              "      <td>a</td>\n",
              "      <td>g</td>\n",
              "    </tr>\n",
              "  </tbody>\n",
              "</table>\n",
              "<p>5 rows × 23 columns</p>\n",
              "</div>\n",
              "      <button class=\"colab-df-convert\" onclick=\"convertToInteractive('df-81144c8e-e697-47f5-9b7d-baebece9458f')\"\n",
              "              title=\"Convert this dataframe to an interactive table.\"\n",
              "              style=\"display:none;\">\n",
              "        \n",
              "  <svg xmlns=\"http://www.w3.org/2000/svg\" height=\"24px\"viewBox=\"0 0 24 24\"\n",
              "       width=\"24px\">\n",
              "    <path d=\"M0 0h24v24H0V0z\" fill=\"none\"/>\n",
              "    <path d=\"M18.56 5.44l.94 2.06.94-2.06 2.06-.94-2.06-.94-.94-2.06-.94 2.06-2.06.94zm-11 1L8.5 8.5l.94-2.06 2.06-.94-2.06-.94L8.5 2.5l-.94 2.06-2.06.94zm10 10l.94 2.06.94-2.06 2.06-.94-2.06-.94-.94-2.06-.94 2.06-2.06.94z\"/><path d=\"M17.41 7.96l-1.37-1.37c-.4-.4-.92-.59-1.43-.59-.52 0-1.04.2-1.43.59L10.3 9.45l-7.72 7.72c-.78.78-.78 2.05 0 2.83L4 21.41c.39.39.9.59 1.41.59.51 0 1.02-.2 1.41-.59l7.78-7.78 2.81-2.81c.8-.78.8-2.07 0-2.86zM5.41 20L4 18.59l7.72-7.72 1.47 1.35L5.41 20z\"/>\n",
              "  </svg>\n",
              "      </button>\n",
              "      \n",
              "  <style>\n",
              "    .colab-df-container {\n",
              "      display:flex;\n",
              "      flex-wrap:wrap;\n",
              "      gap: 12px;\n",
              "    }\n",
              "\n",
              "    .colab-df-convert {\n",
              "      background-color: #E8F0FE;\n",
              "      border: none;\n",
              "      border-radius: 50%;\n",
              "      cursor: pointer;\n",
              "      display: none;\n",
              "      fill: #1967D2;\n",
              "      height: 32px;\n",
              "      padding: 0 0 0 0;\n",
              "      width: 32px;\n",
              "    }\n",
              "\n",
              "    .colab-df-convert:hover {\n",
              "      background-color: #E2EBFA;\n",
              "      box-shadow: 0px 1px 2px rgba(60, 64, 67, 0.3), 0px 1px 3px 1px rgba(60, 64, 67, 0.15);\n",
              "      fill: #174EA6;\n",
              "    }\n",
              "\n",
              "    [theme=dark] .colab-df-convert {\n",
              "      background-color: #3B4455;\n",
              "      fill: #D2E3FC;\n",
              "    }\n",
              "\n",
              "    [theme=dark] .colab-df-convert:hover {\n",
              "      background-color: #434B5C;\n",
              "      box-shadow: 0px 1px 3px 1px rgba(0, 0, 0, 0.15);\n",
              "      filter: drop-shadow(0px 1px 2px rgba(0, 0, 0, 0.3));\n",
              "      fill: #FFFFFF;\n",
              "    }\n",
              "  </style>\n",
              "\n",
              "      <script>\n",
              "        const buttonEl =\n",
              "          document.querySelector('#df-81144c8e-e697-47f5-9b7d-baebece9458f button.colab-df-convert');\n",
              "        buttonEl.style.display =\n",
              "          google.colab.kernel.accessAllowed ? 'block' : 'none';\n",
              "\n",
              "        async function convertToInteractive(key) {\n",
              "          const element = document.querySelector('#df-81144c8e-e697-47f5-9b7d-baebece9458f');\n",
              "          const dataTable =\n",
              "            await google.colab.kernel.invokeFunction('convertToInteractive',\n",
              "                                                     [key], {});\n",
              "          if (!dataTable) return;\n",
              "\n",
              "          const docLinkHtml = 'Like what you see? Visit the ' +\n",
              "            '<a target=\"_blank\" href=https://colab.research.google.com/notebooks/data_table.ipynb>data table notebook</a>'\n",
              "            + ' to learn more about interactive tables.';\n",
              "          element.innerHTML = '';\n",
              "          dataTable['output_type'] = 'display_data';\n",
              "          await google.colab.output.renderOutput(dataTable, element);\n",
              "          const docLink = document.createElement('div');\n",
              "          docLink.innerHTML = docLinkHtml;\n",
              "          element.appendChild(docLink);\n",
              "        }\n",
              "      </script>\n",
              "    </div>\n",
              "  </div>\n",
              "  "
            ]
          },
          "metadata": {},
          "execution_count": 3
        }
      ]
    },
    {
      "cell_type": "code",
      "source": [
        "dataset.info()"
      ],
      "metadata": {
        "colab": {
          "base_uri": "https://localhost:8080/"
        },
        "id": "9vp2OaSuKcaS",
        "outputId": "05405e0e-3e6f-478a-ba58-aebdd0a7dc69"
      },
      "execution_count": null,
      "outputs": [
        {
          "output_type": "stream",
          "name": "stdout",
          "text": [
            "<class 'pandas.core.frame.DataFrame'>\n",
            "RangeIndex: 8124 entries, 0 to 8123\n",
            "Data columns (total 23 columns):\n",
            " #   Column                    Non-Null Count  Dtype \n",
            "---  ------                    --------------  ----- \n",
            " 0   class                     8124 non-null   object\n",
            " 1   cap-shape                 8124 non-null   object\n",
            " 2   cap-surface               8124 non-null   object\n",
            " 3   cap-color                 8124 non-null   object\n",
            " 4   bruises                   8124 non-null   object\n",
            " 5   odor                      8124 non-null   object\n",
            " 6   gill-attachment           8124 non-null   object\n",
            " 7   gill-spacing              8124 non-null   object\n",
            " 8   gill-size                 8124 non-null   object\n",
            " 9   gill-color                8124 non-null   object\n",
            " 10  stalk-shape               8124 non-null   object\n",
            " 11  stalk-root                8124 non-null   object\n",
            " 12  stalk-surface-above-ring  8124 non-null   object\n",
            " 13  stalk-surface-below-ring  8124 non-null   object\n",
            " 14  stalk-color-above-ring    8124 non-null   object\n",
            " 15  stalk-color-below-ring    8124 non-null   object\n",
            " 16  veil-type                 8124 non-null   object\n",
            " 17  veil-color                8124 non-null   object\n",
            " 18  ring-number               8124 non-null   object\n",
            " 19  ring-type                 8124 non-null   object\n",
            " 20  spore-print-color         8124 non-null   object\n",
            " 21  population                8124 non-null   object\n",
            " 22  habitat                   8124 non-null   object\n",
            "dtypes: object(23)\n",
            "memory usage: 1.4+ MB\n"
          ]
        }
      ]
    },
    {
      "cell_type": "code",
      "source": [
        "for column in dataset.columns:\n",
        "    dataset[column] = pd.factorize(dataset[column])[0]"
      ],
      "metadata": {
        "id": "uQ4P--wCKgW_"
      },
      "execution_count": 4,
      "outputs": []
    },
    {
      "cell_type": "code",
      "source": [
        "X = dataset.drop(['class'], axis=1)\n",
        "y = dataset['class']\n"
      ],
      "metadata": {
        "id": "vb-F3OlcKkGU"
      },
      "execution_count": 5,
      "outputs": []
    },
    {
      "cell_type": "code",
      "source": [
        "print(X)"
      ],
      "metadata": {
        "colab": {
          "base_uri": "https://localhost:8080/"
        },
        "id": "BwrFYST4KpbJ",
        "outputId": "5b0484af-01ed-43ab-83c5-f7e954f20d30"
      },
      "execution_count": 6,
      "outputs": [
        {
          "output_type": "stream",
          "name": "stdout",
          "text": [
            "      cap-shape  cap-surface  cap-color  bruises  odor  gill-attachment  \\\n",
            "0             0            0          0        0     0                0   \n",
            "1             0            0          1        0     1                0   \n",
            "2             1            0          2        0     2                0   \n",
            "3             0            1          2        0     0                0   \n",
            "4             0            0          3        1     3                0   \n",
            "...         ...          ...        ...      ...   ...              ...   \n",
            "8119          4            0          0        1     3                1   \n",
            "8120          0            0          0        1     3                1   \n",
            "8121          3            0          0        1     3                1   \n",
            "8122          4            1          0        1     6                0   \n",
            "8123          0            0          0        1     3                1   \n",
            "\n",
            "      gill-spacing  gill-size  gill-color  stalk-shape  ...  \\\n",
            "0                0          0           0            0  ...   \n",
            "1                0          1           0            0  ...   \n",
            "2                0          1           1            0  ...   \n",
            "3                0          0           1            0  ...   \n",
            "4                1          1           0            1  ...   \n",
            "...            ...        ...         ...          ...  ...   \n",
            "8119             0          1          10            0  ...   \n",
            "8120             0          1          10            0  ...   \n",
            "8121             0          1           1            0  ...   \n",
            "8122             0          0           8            1  ...   \n",
            "8123             0          1          10            0  ...   \n",
            "\n",
            "      stalk-surface-below-ring  stalk-color-above-ring  \\\n",
            "0                            0                       0   \n",
            "1                            0                       0   \n",
            "2                            0                       0   \n",
            "3                            0                       0   \n",
            "4                            0                       0   \n",
            "...                        ...                     ...   \n",
            "8119                         0                       6   \n",
            "8120                         0                       6   \n",
            "8121                         0                       6   \n",
            "8122                         3                       0   \n",
            "8123                         0                       6   \n",
            "\n",
            "      stalk-color-below-ring  veil-type  veil-color  ring-number  ring-type  \\\n",
            "0                          0          0           0            0          0   \n",
            "1                          0          0           0            0          0   \n",
            "2                          0          0           0            0          0   \n",
            "3                          0          0           0            0          0   \n",
            "4                          0          0           0            0          1   \n",
            "...                      ...        ...         ...          ...        ...   \n",
            "8119                       7          0           2            0          0   \n",
            "8120                       7          0           1            0          0   \n",
            "8121                       7          0           2            0          0   \n",
            "8122                       0          0           0            0          1   \n",
            "8123                       7          0           2            0          0   \n",
            "\n",
            "      spore-print-color  population  habitat  \n",
            "0                     0           0        0  \n",
            "1                     1           1        1  \n",
            "2                     1           1        2  \n",
            "3                     0           0        0  \n",
            "4                     1           2        1  \n",
            "...                 ...         ...      ...  \n",
            "8119                  8           5        6  \n",
            "8120                  8           3        6  \n",
            "8121                  8           5        6  \n",
            "8122                  4           3        6  \n",
            "8123                  6           5        6  \n",
            "\n",
            "[8124 rows x 22 columns]\n"
          ]
        }
      ]
    },
    {
      "cell_type": "code",
      "source": [
        "X_train, X_test, y_train, y_test = train_test_split(X, y, test_size=0.3, random_state=0)"
      ],
      "metadata": {
        "id": "dDpfe2bwKrQX"
      },
      "execution_count": 7,
      "outputs": []
    },
    {
      "cell_type": "code",
      "source": [
        "print(X_train)"
      ],
      "metadata": {
        "colab": {
          "base_uri": "https://localhost:8080/"
        },
        "id": "QPhEqoGwKujg",
        "outputId": "98cc127c-3608-4782-9064-272d4a8f2164"
      },
      "execution_count": 8,
      "outputs": [
        {
          "output_type": "stream",
          "name": "stdout",
          "text": [
            "      cap-shape  cap-surface  cap-color  bruises  odor  gill-attachment  \\\n",
            "5314          0            0          2        0     4                0   \n",
            "2075          0            0          1        0     2                0   \n",
            "5165          3            0          2        0     4                0   \n",
            "1155          1            1          2        0     1                0   \n",
            "4448          0            1          1        1     4                0   \n",
            "...         ...          ...        ...      ...   ...              ...   \n",
            "4931          0            1          4        0     3                0   \n",
            "3264          0            2          3        1     4                0   \n",
            "1653          0            0          3        1     3                0   \n",
            "2607          3            2          0        0     3                0   \n",
            "2732          0            1          3        0     3                0   \n",
            "\n",
            "      gill-spacing  gill-size  gill-color  stalk-shape  ...  \\\n",
            "5314             0          1           5            1  ...   \n",
            "2075             0          1           0            0  ...   \n",
            "5165             0          1           3            1  ...   \n",
            "1155             0          1           0            0  ...   \n",
            "4448             0          1           5            0  ...   \n",
            "...            ...        ...         ...          ...  ...   \n",
            "4931             0          1           7            0  ...   \n",
            "3264             0          1           5            0  ...   \n",
            "1653             1          1           5            1  ...   \n",
            "2607             0          1           1            1  ...   \n",
            "2732             0          1           4            1  ...   \n",
            "\n",
            "      stalk-surface-below-ring  stalk-color-above-ring  \\\n",
            "5314                         0                       0   \n",
            "2075                         0                       0   \n",
            "5165                         0                       0   \n",
            "1155                         0                       0   \n",
            "4448                         3                       4   \n",
            "...                        ...                     ...   \n",
            "4931                         0                       5   \n",
            "3264                         3                       2   \n",
            "1653                         0                       0   \n",
            "2607                         0                       1   \n",
            "2732                         0                       1   \n",
            "\n",
            "      stalk-color-below-ring  veil-type  veil-color  ring-number  ring-type  \\\n",
            "5314                       0          0           0            0          0   \n",
            "2075                       0          0           0            0          0   \n",
            "5165                       0          0           0            0          0   \n",
            "1155                       0          0           0            0          0   \n",
            "4448                       3          0           0            0          2   \n",
            "...                      ...        ...         ...          ...        ...   \n",
            "4931                       5          0           0            1          1   \n",
            "3264                       4          0           0            0          2   \n",
            "1653                       0          0           0            0          1   \n",
            "2607                       2          0           0            0          0   \n",
            "2732                       1          0           0            0          0   \n",
            "\n",
            "      spore-print-color  population  habitat  \n",
            "5314                  3           3        1  \n",
            "2075                  0           1        2  \n",
            "5165                  3           0        1  \n",
            "1155                  1           0        2  \n",
            "4448                  3           4        1  \n",
            "...                 ...         ...      ...  \n",
            "4931                  4           5        5  \n",
            "3264                  3           4        4  \n",
            "1653                  1           0        1  \n",
            "2607                  1           3        3  \n",
            "2732                  1           4        3  \n",
            "\n",
            "[5686 rows x 22 columns]\n"
          ]
        }
      ]
    },
    {
      "cell_type": "code",
      "source": [
        "print(X_test)"
      ],
      "metadata": {
        "colab": {
          "base_uri": "https://localhost:8080/"
        },
        "id": "jM2GRgInK4kJ",
        "outputId": "f7e30836-e8dd-42e5-8607-b4baa96c58e0"
      },
      "execution_count": null,
      "outputs": [
        {
          "output_type": "stream",
          "name": "stdout",
          "text": [
            "      cap-shape  cap-surface  cap-color  bruises  odor  gill-attachment  \\\n",
            "380           0            1          0        0     0                0   \n",
            "3641          3            1          3        0     3                0   \n",
            "273           0            1          1        0     1                0   \n",
            "1029          0            0          2        1     3                0   \n",
            "684           0            2          0        0     3                0   \n",
            "...         ...          ...        ...      ...   ...              ...   \n",
            "520           0            0          2        0     2                0   \n",
            "36            2            2          3        1     3                0   \n",
            "7959          4            1          4        1     4                0   \n",
            "6520          0            1          4        1     6                0   \n",
            "6005          3            1          4        1     7                0   \n",
            "\n",
            "      gill-spacing  gill-size  gill-color  stalk-shape  ...  \\\n",
            "380              0          0           3            0  ...   \n",
            "3641             0          1           3            1  ...   \n",
            "273              0          1           0            0  ...   \n",
            "1029             1          1           0            1  ...   \n",
            "684              0          1           3            1  ...   \n",
            "...            ...        ...         ...          ...  ...   \n",
            "520              0          1           4            0  ...   \n",
            "36               0          0           0            0  ...   \n",
            "7959             0          0           8            1  ...   \n",
            "6520             0          0           8            1  ...   \n",
            "6005             0          0           8            1  ...   \n",
            "\n",
            "      stalk-surface-below-ring  stalk-color-above-ring  \\\n",
            "380                          0                       0   \n",
            "3641                         0                       1   \n",
            "273                          0                       0   \n",
            "1029                         0                       0   \n",
            "684                          0                       2   \n",
            "...                        ...                     ...   \n",
            "520                          0                       0   \n",
            "36                           0                       0   \n",
            "7959                         0                       0   \n",
            "6520                         0                       0   \n",
            "6005                         3                       2   \n",
            "\n",
            "      stalk-color-below-ring  veil-type  veil-color  ring-number  ring-type  \\\n",
            "380                        0          0           0            0          0   \n",
            "3641                       2          0           0            0          0   \n",
            "273                        0          0           0            0          0   \n",
            "1029                       0          0           0            0          1   \n",
            "684                        0          0           0            0          0   \n",
            "...                      ...        ...         ...          ...        ...   \n",
            "520                        0          0           0            0          0   \n",
            "36                         0          0           0            0          0   \n",
            "7959                       1          0           0            0          1   \n",
            "6520                       0          0           0            0          1   \n",
            "6005                       1          0           0            0          1   \n",
            "\n",
            "      spore-print-color  population  habitat  \n",
            "380                   0           0        0  \n",
            "3641                  0           4        3  \n",
            "273                   1           1        2  \n",
            "1029                  0           2        1  \n",
            "684                   1           3        3  \n",
            "...                 ...         ...      ...  \n",
            "520                   0           1        2  \n",
            "36                    0           3        0  \n",
            "7959                  4           3        6  \n",
            "6520                  4           3        4  \n",
            "6005                  4           3        3  \n",
            "\n",
            "[2438 rows x 22 columns]\n"
          ]
        }
      ]
    },
    {
      "cell_type": "code",
      "source": [
        "classifier = GaussianNB()\n",
        "classifier.fit(X_train, y_train)"
      ],
      "metadata": {
        "colab": {
          "base_uri": "https://localhost:8080/",
          "height": 74
        },
        "id": "ri0aB3fXK8m4",
        "outputId": "79a701e2-fde6-474b-be4a-f6c452110e92"
      },
      "execution_count": 9,
      "outputs": [
        {
          "output_type": "execute_result",
          "data": {
            "text/plain": [
              "GaussianNB()"
            ],
            "text/html": [
              "<style>#sk-container-id-1 {color: black;background-color: white;}#sk-container-id-1 pre{padding: 0;}#sk-container-id-1 div.sk-toggleable {background-color: white;}#sk-container-id-1 label.sk-toggleable__label {cursor: pointer;display: block;width: 100%;margin-bottom: 0;padding: 0.3em;box-sizing: border-box;text-align: center;}#sk-container-id-1 label.sk-toggleable__label-arrow:before {content: \"▸\";float: left;margin-right: 0.25em;color: #696969;}#sk-container-id-1 label.sk-toggleable__label-arrow:hover:before {color: black;}#sk-container-id-1 div.sk-estimator:hover label.sk-toggleable__label-arrow:before {color: black;}#sk-container-id-1 div.sk-toggleable__content {max-height: 0;max-width: 0;overflow: hidden;text-align: left;background-color: #f0f8ff;}#sk-container-id-1 div.sk-toggleable__content pre {margin: 0.2em;color: black;border-radius: 0.25em;background-color: #f0f8ff;}#sk-container-id-1 input.sk-toggleable__control:checked~div.sk-toggleable__content {max-height: 200px;max-width: 100%;overflow: auto;}#sk-container-id-1 input.sk-toggleable__control:checked~label.sk-toggleable__label-arrow:before {content: \"▾\";}#sk-container-id-1 div.sk-estimator input.sk-toggleable__control:checked~label.sk-toggleable__label {background-color: #d4ebff;}#sk-container-id-1 div.sk-label input.sk-toggleable__control:checked~label.sk-toggleable__label {background-color: #d4ebff;}#sk-container-id-1 input.sk-hidden--visually {border: 0;clip: rect(1px 1px 1px 1px);clip: rect(1px, 1px, 1px, 1px);height: 1px;margin: -1px;overflow: hidden;padding: 0;position: absolute;width: 1px;}#sk-container-id-1 div.sk-estimator {font-family: monospace;background-color: #f0f8ff;border: 1px dotted black;border-radius: 0.25em;box-sizing: border-box;margin-bottom: 0.5em;}#sk-container-id-1 div.sk-estimator:hover {background-color: #d4ebff;}#sk-container-id-1 div.sk-parallel-item::after {content: \"\";width: 100%;border-bottom: 1px solid gray;flex-grow: 1;}#sk-container-id-1 div.sk-label:hover label.sk-toggleable__label {background-color: #d4ebff;}#sk-container-id-1 div.sk-serial::before {content: \"\";position: absolute;border-left: 1px solid gray;box-sizing: border-box;top: 0;bottom: 0;left: 50%;z-index: 0;}#sk-container-id-1 div.sk-serial {display: flex;flex-direction: column;align-items: center;background-color: white;padding-right: 0.2em;padding-left: 0.2em;position: relative;}#sk-container-id-1 div.sk-item {position: relative;z-index: 1;}#sk-container-id-1 div.sk-parallel {display: flex;align-items: stretch;justify-content: center;background-color: white;position: relative;}#sk-container-id-1 div.sk-item::before, #sk-container-id-1 div.sk-parallel-item::before {content: \"\";position: absolute;border-left: 1px solid gray;box-sizing: border-box;top: 0;bottom: 0;left: 50%;z-index: -1;}#sk-container-id-1 div.sk-parallel-item {display: flex;flex-direction: column;z-index: 1;position: relative;background-color: white;}#sk-container-id-1 div.sk-parallel-item:first-child::after {align-self: flex-end;width: 50%;}#sk-container-id-1 div.sk-parallel-item:last-child::after {align-self: flex-start;width: 50%;}#sk-container-id-1 div.sk-parallel-item:only-child::after {width: 0;}#sk-container-id-1 div.sk-dashed-wrapped {border: 1px dashed gray;margin: 0 0.4em 0.5em 0.4em;box-sizing: border-box;padding-bottom: 0.4em;background-color: white;}#sk-container-id-1 div.sk-label label {font-family: monospace;font-weight: bold;display: inline-block;line-height: 1.2em;}#sk-container-id-1 div.sk-label-container {text-align: center;}#sk-container-id-1 div.sk-container {/* jupyter's `normalize.less` sets `[hidden] { display: none; }` but bootstrap.min.css set `[hidden] { display: none !important; }` so we also need the `!important` here to be able to override the default hidden behavior on the sphinx rendered scikit-learn.org. See: https://github.com/scikit-learn/scikit-learn/issues/21755 */display: inline-block !important;position: relative;}#sk-container-id-1 div.sk-text-repr-fallback {display: none;}</style><div id=\"sk-container-id-1\" class=\"sk-top-container\"><div class=\"sk-text-repr-fallback\"><pre>GaussianNB()</pre><b>In a Jupyter environment, please rerun this cell to show the HTML representation or trust the notebook. <br />On GitHub, the HTML representation is unable to render, please try loading this page with nbviewer.org.</b></div><div class=\"sk-container\" hidden><div class=\"sk-item\"><div class=\"sk-estimator sk-toggleable\"><input class=\"sk-toggleable__control sk-hidden--visually\" id=\"sk-estimator-id-1\" type=\"checkbox\" checked><label for=\"sk-estimator-id-1\" class=\"sk-toggleable__label sk-toggleable__label-arrow\">GaussianNB</label><div class=\"sk-toggleable__content\"><pre>GaussianNB()</pre></div></div></div></div></div>"
            ]
          },
          "metadata": {},
          "execution_count": 9
        }
      ]
    },
    {
      "cell_type": "code",
      "source": [
        "y_pred = classifier.predict(X_test)"
      ],
      "metadata": {
        "id": "uOKcZc8SK8uI"
      },
      "execution_count": 10,
      "outputs": []
    },
    {
      "cell_type": "code",
      "source": [
        "print(y_pred)"
      ],
      "metadata": {
        "colab": {
          "base_uri": "https://localhost:8080/"
        },
        "id": "Asa8DgSxLFbr",
        "outputId": "02a3dbe4-fa6a-4b96-8cdf-baa8cd7f0060"
      },
      "execution_count": null,
      "outputs": [
        {
          "output_type": "stream",
          "name": "stdout",
          "text": [
            "[0 1 1 ... 0 0 0]\n"
          ]
        }
      ]
    },
    {
      "cell_type": "code",
      "source": [
        "accuracy = accuracy_score(y_test, y_pred)"
      ],
      "metadata": {
        "id": "s-JdObttLG3v"
      },
      "execution_count": 11,
      "outputs": []
    },
    {
      "cell_type": "code",
      "source": [
        "print(\"Accuracy:\", accuracy)"
      ],
      "metadata": {
        "colab": {
          "base_uri": "https://localhost:8080/"
        },
        "id": "MY6wYp2sLJNr",
        "outputId": "a67059a3-448b-40ce-fec9-b759d7b81a7b"
      },
      "execution_count": null,
      "outputs": [
        {
          "output_type": "stream",
          "name": "stdout",
          "text": [
            "Accuracy: 0.9278096800656276\n"
          ]
        }
      ]
    },
    {
      "cell_type": "code",
      "source": [
        "#labels = ['Label1', 'Label2', 'Label3']  # Ganti dengan daftar label yang sesuai\n"
      ],
      "metadata": {
        "id": "zfTZMZ0QNBTc"
      },
      "execution_count": null,
      "outputs": []
    },
    {
      "cell_type": "code",
      "source": [
        "#sizes = [ 1, 2, 3]  # Ganti dengan daftar ukuran yang sesuai\n"
      ],
      "metadata": {
        "id": "Qbsn8rgzNbNY"
      },
      "execution_count": null,
      "outputs": []
    },
    {
      "cell_type": "code",
      "source": [
        "#colors = ['red', 'green', 'blue']  # Ganti dengan daftar warna yang sesuai\n"
      ],
      "metadata": {
        "id": "UMDSMLIVN0lC"
      },
      "execution_count": null,
      "outputs": []
    },
    {
      "cell_type": "code",
      "source": [
        "# Hasil Visualisasi dengan Pie chart\n",
        "labels = ['Bisa Dimakan', 'Beracun']\n",
        "sizes = [np.count_nonzero(y_pred==0), np.count_nonzero(y_pred==1)]\n",
        "colors = ['#99ff99', '#ff9999']\n",
        "explode = (0.1, 0)\n",
        "plt.pie(sizes, explode=explode, labels=labels, colors=colors, autopct='%1.1f%%', shadow=True, startangle=90)\n",
        "plt.axis('equal')\n",
        "plt.title('Hasil Klasifikasi Data Mushroom')\n",
        "plt.show()"
      ],
      "metadata": {
        "colab": {
          "base_uri": "https://localhost:8080/",
          "height": 428
        },
        "id": "6LHqRbOmLJa2",
        "outputId": "cd9406ea-aa6f-437c-b1ff-6a3dc9e1929f"
      },
      "execution_count": null,
      "outputs": [
        {
          "output_type": "display_data",
          "data": {
            "text/plain": [
              "<Figure size 640x480 with 1 Axes>"
            ],
            "image/png": "[encoded data removed]"
          },
          "metadata": {}
        }
      ]
    },
    {
      "cell_type": "code",
      "source": [
        "# Hasil Visualisasi dengan Bar chart\n",
        "x_pos = np.arange(len(labels))\n",
        "plt.bar(x_pos, sizes, color=colors)\n",
        "plt.xticks(x_pos, labels)\n",
        "plt.ylabel('Jumlah Mushroom')\n",
        "plt.title('Hasil Klasifikasi Data Mushroom')\n",
        "plt.show()"
      ],
      "metadata": {
        "colab": {
          "base_uri": "https://localhost:8080/",
          "height": 452
        },
        "id": "Oamw191XO0cF",
        "outputId": "0d13ae80-b5ee-44c0-fd2b-ebbfff41ae50"
      },
      "execution_count": null,
      "outputs": [
        {
          "output_type": "display_data",
          "data": {
            "text/plain": [
              "<Figure size 640x480 with 1 Axes>"
            ],
            "image/png": "[encoded data removed]"
          },
          "metadata": {}
        }
      ]
    },
    {
      "cell_type": "code",
      "source": [
        "import pandas as pd\n",
        "from sklearn.cluster import KMeans\n",
        "\n",
        "\n",
        "# Memisahkan atribut numerik dari dataset\n",
        "numeric_data = dataset.drop('class', axis=1)  # Menghapus kolom 'class' karena ini adalah label klasifikasi\n",
        "\n",
        "# Inisialisasi model K-means dengan jumlah klaster yang diinginkan\n",
        "kmeans = KMeans(n_clusters=3)  # Misalnya, kita menggunakan 3 klaster\n",
        "\n",
        "# Melakukan clustering dengan K-means\n",
        "kmeans.fit(numeric_data)\n",
        "\n",
        "# Mendapatkan label klaster untuk setiap sampel\n",
        "cluster_labels = kmeans.labels_\n",
        "\n",
        "# Menambahkan label klaster ke dataset\n",
        "dataset['cluster_label'] = cluster_labels\n",
        "\n",
        "# Menampilkan hasil clustering\n",
        "print(dataset[['class', 'cluster_label']].head(10))\n"
      ],
      "metadata": {
        "colab": {
          "base_uri": "https://localhost:8080/"
        },
        "id": "wz6N6rNhCL6O",
        "outputId": "9e0cdd0e-aa28-4a51-8f78-35aec684a944"
      },
      "execution_count": null,
      "outputs": [
        {
          "output_type": "stream",
          "name": "stderr",
          "text": [
            "/usr/local/lib/python3.10/dist-packages/sklearn/cluster/_kmeans.py:870: FutureWarning: The default value of `n_init` will change from 10 to 'auto' in 1.4. Set the value of `n_init` explicitly to suppress the warning\n",
            "  warnings.warn(\n"
          ]
        },
        {
          "output_type": "stream",
          "name": "stdout",
          "text": [
            "   class  cluster_label\n",
            "0      0              0\n",
            "1      1              0\n",
            "2      1              0\n",
            "3      0              0\n",
            "4      1              0\n",
            "5      1              0\n",
            "6      1              0\n",
            "7      1              0\n",
            "8      0              0\n",
            "9      1              0\n"
          ]
        }
      ]
    },
    {
      "cell_type": "code",
      "source": [
        "import pandas as pd\n",
        "import matplotlib.pyplot as plt\n",
        "from sklearn.cluster import KMeans\n",
        "\n",
        "\n",
        "# Memisahkan atribut numerik dari dataset\n",
        "numeric_data = dataset[['cap-shape', 'cap-color']]  # Contoh penggunaan atribut 'cap-shape' dan 'cap-color'\n",
        "\n",
        "# Inisialisasi model K-means dengan jumlah klaster yang diinginkan\n",
        "kmeans = KMeans(n_clusters=3)  # Misalnya, kita menggunakan 3 klaster\n",
        "\n",
        "# Melakukan clustering dengan K-means\n",
        "kmeans.fit(numeric_data)\n",
        "\n",
        "# Mendapatkan label klaster untuk setiap sampel\n",
        "cluster_labels = kmeans.labels_\n",
        "\n",
        "# Menambahkan label klaster ke dataset\n",
        "dataset['cluster_label'] = cluster_labels\n",
        "\n",
        "# Plotting hasil klaster dalam bentuk scatter plot\n",
        "plt.scatter(dataset['cap-shape'], dataset['cap-color'], c=dataset['cluster_label'])\n",
        "plt.xlabel('Cap Shape')\n",
        "plt.ylabel('Cap Color')\n",
        "plt.title('Hasil Clustering dengan K-means')\n",
        "plt.show()\n"
      ],
      "metadata": {
        "colab": {
          "base_uri": "https://localhost:8080/",
          "height": 527
        },
        "id": "V-pX6w0nS5wJ",
        "outputId": "13c5b813-c147-4bbd-84e0-a4dc13293c4f"
      },
      "execution_count": 12,
      "outputs": [
        {
          "output_type": "stream",
          "name": "stderr",
          "text": [
            "/usr/local/lib/python3.10/dist-packages/sklearn/cluster/_kmeans.py:870: FutureWarning: The default value of `n_init` will change from 10 to 'auto' in 1.4. Set the value of `n_init` explicitly to suppress the warning\n",
            "  warnings.warn(\n"
          ]
        },
        {
          "output_type": "display_data",
          "data": {
            "text/plain": [
              "<Figure size 640x480 with 1 Axes>"
            ],
            "image/png": "[encoded data removed]"
          },
          "metadata": {}
        }
      ]
    },
    {
      "cell_type": "code",
      "source": [
        "import pandas as pd\n",
        "import matplotlib.pyplot as plt\n",
        "from sklearn.cluster import KMeans\n",
        "\n",
        "# Memisahkan atribut numerik dari dataset\n",
        "numeric_data = dataset.drop('class', axis=1)  # Menghapus kolom 'class' karena ini adalah label klasifikasi\n",
        "\n",
        "# Menyimpan variansi dalam setiap klaster untuk jumlah klaster yang berbeda\n",
        "variances = []\n",
        "cluster_range = range(1, 10)  # Menentukan jumlah klaster yang akan dievaluasi\n",
        "\n",
        "for num_clusters in cluster_range:\n",
        "    kmeans = KMeans(n_clusters=num_clusters)\n",
        "    kmeans.fit(numeric_data)\n",
        "    variances.append(kmeans.inertia_)  # Mengambil inertia yang merupakan ukuran varian dalam klaster\n",
        "\n",
        "# Plotting elbow curve\n",
        "plt.plot(cluster_range, variances, marker='o')\n",
        "plt.xlabel('Number of Clusters')\n",
        "plt.ylabel('Variance')\n",
        "plt.title('Elbow Curve')\n",
        "plt.show()\n"
      ],
      "metadata": {
        "colab": {
          "base_uri": "https://localhost:8080/",
          "height": 804
        },
        "id": "APpmIUcPFa-K",
        "outputId": "21a866ae-de32-43e2-8990-8e77d6a387bc"
      },
      "execution_count": 27,
      "outputs": [
        {
          "output_type": "stream",
          "name": "stderr",
          "text": [
            "/usr/local/lib/python3.10/dist-packages/sklearn/cluster/_kmeans.py:870: FutureWarning: The default value of `n_init` will change from 10 to 'auto' in 1.4. Set the value of `n_init` explicitly to suppress the warning\n",
            "  warnings.warn(\n",
            "/usr/local/lib/python3.10/dist-packages/sklearn/cluster/_kmeans.py:870: FutureWarning: The default value of `n_init` will change from 10 to 'auto' in 1.4. Set the value of `n_init` explicitly to suppress the warning\n",
            "  warnings.warn(\n",
            "/usr/local/lib/python3.10/dist-packages/sklearn/cluster/_kmeans.py:870: FutureWarning: The default value of `n_init` will change from 10 to 'auto' in 1.4. Set the value of `n_init` explicitly to suppress the warning\n",
            "  warnings.warn(\n",
            "/usr/local/lib/python3.10/dist-packages/sklearn/cluster/_kmeans.py:870: FutureWarning: The default value of `n_init` will change from 10 to 'auto' in 1.4. Set the value of `n_init` explicitly to suppress the warning\n",
            "  warnings.warn(\n",
            "/usr/local/lib/python3.10/dist-packages/sklearn/cluster/_kmeans.py:870: FutureWarning: The default value of `n_init` will change from 10 to 'auto' in 1.4. Set the value of `n_init` explicitly to suppress the warning\n",
            "  warnings.warn(\n",
            "/usr/local/lib/python3.10/dist-packages/sklearn/cluster/_kmeans.py:870: FutureWarning: The default value of `n_init` will change from 10 to 'auto' in 1.4. Set the value of `n_init` explicitly to suppress the warning\n",
            "  warnings.warn(\n",
            "/usr/local/lib/python3.10/dist-packages/sklearn/cluster/_kmeans.py:870: FutureWarning: The default value of `n_init` will change from 10 to 'auto' in 1.4. Set the value of `n_init` explicitly to suppress the warning\n",
            "  warnings.warn(\n",
            "/usr/local/lib/python3.10/dist-packages/sklearn/cluster/_kmeans.py:870: FutureWarning: The default value of `n_init` will change from 10 to 'auto' in 1.4. Set the value of `n_init` explicitly to suppress the warning\n",
            "  warnings.warn(\n",
            "/usr/local/lib/python3.10/dist-packages/sklearn/cluster/_kmeans.py:870: FutureWarning: The default value of `n_init` will change from 10 to 'auto' in 1.4. Set the value of `n_init` explicitly to suppress the warning\n",
            "  warnings.warn(\n"
          ]
        },
        {
          "output_type": "display_data",
          "data": {
            "text/plain": [
              "<Figure size 640x480 with 1 Axes>"
            ],
            "image/png": "[encoded data removed]"
          },
          "metadata": {}
        }
      ]
    }
  ]
}